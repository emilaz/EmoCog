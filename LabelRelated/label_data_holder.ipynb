{
 "cells": [
  {
   "cell_type": "code",
   "execution_count": 1,
   "metadata": {},
   "outputs": [],
   "source": [
    "import numpy as np\n",
    "import pandas as pd"
   ]
  },
  {
   "cell_type": "code",
   "execution_count": 1,
   "metadata": {},
   "outputs": [],
   "source": [
    "\"\"\"\n",
    "This class loads label data from file into memory and preprocesses it to be easily usable (binning etc.) for generating labels\n",
    "\"\"\"\n",
    "class LabelDataHolder:\n",
    "    \"\"\"\n",
    "    Init function. Loads data in given start-end window and bins the data.\n",
    "    Input: Path to label file, start and end point (in seconds) of labels wanted, type of label wanted (predicted vs. annotated)\n",
    "    \"\"\"\n",
    "    def __init__(self,path,start=0,end=None, col='Happy_predicted'):\n",
    "        if path.endswith('.csv'):\n",
    "            self.df=pd.read_csv(path,error_bad_lines=False, low_memory=False)#,dtype={'realtime':'datetime64'})\n",
    "        elif path.endswith('.hdf'):\n",
    "            self.df=pd.read_hdf(path,error_bad_lines=False, low_memory=False)#,dtype={'realtime':'datetime64'})\n",
    "        #self.fps=31  #account for slighlty lower framerate due to openface -- \n",
    "        self.fps=30   #Update June: Apparently openface corrects fr to 30FPS\n",
    "        self.start=start*self.fps\n",
    "        if end is None:\n",
    "            self.end=self.df.shape[0]\n",
    "        else:\n",
    "            self.end=end*self.fps\n",
    "        self.df=self.df.iloc[self.start:self.end]\n",
    "        #self._convert_to_unix_time()\n",
    "        self.pred_bin=self._bin_preds(col)\n",
    "    \"\"\"\n",
    "    Function for binning labels. Also converts the char predictions ('Happy'/'Not Happy') into usable bools if needed.\n",
    "    Input: Column wanted\n",
    "    Output: Binnned labels (one row = one sec)\"\"\"\n",
    "    def _bin_preds(self, col):\n",
    "        annot=self.df[col].values\n",
    "        if col == 'annotated':\n",
    "            nan_indices= annot=='N/A'\n",
    "            annot[annot!='Happy']=0\n",
    "            annot[annot=='Happy']=1\n",
    "            annot[nan_indices]=np.nan\n",
    "        #bin s.t. each column is one sec.\n",
    "        end=annot.shape[0]//self.fps\n",
    "        return annot[:self.fps*end].reshape(-1,self.fps)\n",
    "    \n",
    "    def get_pred_bin(self):\n",
    "        return self.pred_bin\n"
   ]
  }
 ],
 "metadata": {
  "kernelspec": {
   "display_name": "Python 3",
   "language": "python",
   "name": "python3"
  },
  "language_info": {
   "codemirror_mode": {
    "name": "ipython",
    "version": 3
   },
   "file_extension": ".py",
   "mimetype": "text/x-python",
   "name": "python",
   "nbconvert_exporter": "python",
   "pygments_lexer": "ipython3",
   "version": "3.7.3"
  }
 },
 "nbformat": 4,
 "nbformat_minor": 2
}
