{
 "cells": [
  {
   "cell_type": "code",
   "execution_count": 1,
   "metadata": {},
   "outputs": [],
   "source": [
    "%load_ext autoreload\n",
    "%autoreload 2"
   ]
  },
  {
   "cell_type": "code",
   "execution_count": 6,
   "metadata": {},
   "outputs": [],
   "source": [
    "from FeatureRelated.feature_generator_test import Feature_generator\n",
    "from LabelRelated.label_generator import Label_generator \n",
    "from FeatureRelated.feature_data_holder import FeatDataHolder\n",
    "from LabelRelated.label_data_holder import LabelDataHolder\n",
    "import numpy as np\n",
    "import pandas as pd\n",
    "from Vis import LabelVis, ClassificationVis\n",
    "import util.data_utils as dutil\n",
    "import util.label_utils as lutil\n",
    "import util.feature_utils as futil\n",
    "import util.sync_utils as sutil\n",
    "import multiprocessing as mp\n",
    "from data_processing import process"
   ]
  },
  {
   "cell_type": "code",
   "execution_count": 7,
   "metadata": {},
   "outputs": [],
   "source": [
    "\"\"\"\n",
    "Class that brings together feature and label side to provide all data needed for classification.\n",
    "Synchronizes the data.\n",
    "This class is not designed to be used elsewhere. Data should be generated and analysed here, then saved to file using the DataUtil class.\n",
    "\"\"\"\n",
    "class DataProvider:\n",
    "    \"\"\"\n",
    "    Init function. Start and end time are set for a time period I checked manually to be more or less okay.\n",
    "    Creates classes to hold label and feature data in memory and classes to create feats and labels.\n",
    "    Input: draw bool, if we want to visualize the happy/non-happy ratio et al.\n",
    "    \"\"\"\n",
    "    def __init__(self, draw = False):\n",
    "        self.is_loaded = False #bool to check whether the raw data has already been loaded into memory\n",
    "        self.draw = draw\n",
    "        self.all_days_df = None\n",
    "        \n",
    "    def _load_raws(self, patient, days): #TODO auf mehrere tage erweitern\n",
    "        if type(days) is int:\n",
    "            days = [days]\n",
    "        #this dataframe saves pat,day,st,end,the raw, non-standardized, non-PCA features and corresponding labels\n",
    "        all_days_df = pd.DataFrame(columns = ['Patient','Day','Start','End','BinnedData','BinnedLabels', 'GoodChans'], index=range(len(days)))\n",
    "        for enum,day in enumerate(days):\n",
    "            print(day,'this day')\n",
    "#             curr_ret = self.load_raws_single_day(patient,day)\n",
    "            ####for testing\n",
    "            start = 0\n",
    "            end = 12\n",
    "            labels = np.arange(start,end)[:,None]\n",
    "            features = np.tile(np.arange(start,end)[None,:],(3,1)).astype('float')\n",
    "            features[:,2]=np.nan\n",
    "            good_chans = np.array(['yes'+str(day),'mes','tes'])\n",
    "            curr_ret = ['test', day, start,end,features,labels,good_chans]\n",
    "#             ####       \n",
    "            all_days_df.loc[enum] = curr_ret\n",
    "        all_days_df = (all_days_df.sort_values(['Day'])).reset_index(drop=True)\n",
    "        self.all_days_df = all_days_df\n",
    "        self.featuregen = Feature_generator(all_days_df)\n",
    "        self.lablegen = Label_generator(all_days_df)\n",
    "        #das hier erstmal nicht. spaeter zur analyse vielleicht wieder\n",
    "        #self.annotsgen = Label_generator(all_days_df,mask=self.featuregen.bad_indices['NaNs']) #this is for conf mat later\n",
    "        self.is_loaded = True\n",
    "        \n",
    "    \n",
    "    def load_raws_single_day(self, patient,day):\n",
    "        path_ecog, path_vid = sutil.find_paths(patient,day)\n",
    "        realtime_start, realtime_end = sutil.find_start_and_end_time(path_vid) #output in secs from midnight\n",
    "        if realtime_start<7*3600: #if it's before 7AM, reset it to 7 AM\n",
    "            realtime_start=7*3600\n",
    "        if realtime_end>23*3600:\n",
    "            realtime_end= 23*3600\n",
    "        print('Day {}, start time is, end time is'.format(day,realtime_start,realtime_end))\n",
    "        feat_data = FeatDataHolder(path_ecog,realtime_start, realtime_end)\n",
    "        label_data = LabelDataHolder(path_vid,realtime_start,realtime_end, col = 'Happy_predicted' )\n",
    "        ret = [patient, day,realtime_start,realtime_end,feat_data.get_bin_data(),label_data.get_pred_bin(), feat_data.chan_labels]\n",
    "        del(feat_data)\n",
    "        del(label_data)\n",
    "        return ret\n",
    "\n",
    "\n",
    "    def reload_generators(self):\n",
    "        self.featuregen = Feature_generator(self.all_days_df)\n",
    "        self.lablegen = Label_generator(self.all_days_df)\n",
    "        \n",
    "\n",
    "\n",
    "    \"\"\"\n",
    "    Function to generate the feats and labels, given the input hyperparas\n",
    "    Input: Configs, i.e. Windowsize, sliding window, start and end (in s), train bool, variance to be explained, cutoff if classification.\n",
    "    Output: Features, Labels\n",
    "    \"\"\"\n",
    "    def generate_data(self,configs, train=True):\n",
    "        #train data\n",
    "        if 'expvar' not in configs.keys():\n",
    "            configs['expvar']=95\n",
    "        #check whether train or test data, set start and end sample accordingly\n",
    "        x = self.featuregen.generate_features(wsize = configs['wsize'], sliding_window=configs['sliding'], expl_variance=configs['expvar'])\n",
    "        y,rat = self.lablegen.generate_labels(wsize = configs['wsize'], sliding_window=configs['sliding'])\n",
    "        #annots, _ = self.annotsgen.generate_labels(wsize=configs['wsize'], start=start,end=end, sliding_window=configs['sliding'])\n",
    "#         if self.draw:\n",
    "#             LabelVis.plot_happy_ratio(y,rat)\n",
    "#             LabelVis.plot_happy_ratio(annots,_)\n",
    "#             preds = y[~np.isnan(y)] ### this is for the confusion matrix between human annotations and openface labels\n",
    "#             annots = annots[~np.isnan(y)]\n",
    "#             preds = preds[~np.isnan(annots)]\n",
    "#             annots = annots[~np.isnan(annots)] ###\n",
    "#             ClassificationVis.conf_mat(preds, annots)\n",
    "        x_tr, y_tr, x_ev, y_ev, loadings = process(x,y,self.featuregen.get_bad_indices())\n",
    "        return x_tr, y_tr, x_ev, y_ev, loadings\n",
    "\n",
    "    \n",
    "    def get_data(self, configs):\n",
    "        #if data already exists, simply reload\n",
    "        try:\n",
    "            x,y,x_ev, y_ev = dutil.load_data_from_file(configs)\n",
    "            print('Loading Data from File..done')\n",
    "        except FileNotFoundError: #file doesn't exist\n",
    "            print('Data not on file yet. Loading raw data into memory...')\n",
    "            if not self.is_loaded:\n",
    "                self._load_raws(configs['patient'],configs['days'])\n",
    "            print('And creating the data..')\n",
    "            x_tr, y_tr, x_ev, y_ev, loadings = self.generate_data(configs)\n",
    "            print('Done. Saving to file for later use.')\n",
    "            dutil.save_data_to_file(x,y,x_ev, y_ev, configs)\n",
    "        #now do the cutoff\n",
    "        if 'cutoff' in configs.keys(): \n",
    "            cutoff = configs['cutoff']\n",
    "            print('Doing cutoff')\n",
    "            y = lutil.do_cutoff(y, cutoff)\n",
    "            y_ev = lutil.do_cutoff(y_ev, cutoff)\n",
    "        return x,y,x_ev,y_ev\n",
    "        "
   ]
  },
  {
   "cell_type": "code",
   "execution_count": 8,
   "metadata": {},
   "outputs": [],
   "source": [
    "provider = DataProvider()"
   ]
  },
  {
   "cell_type": "code",
   "execution_count": null,
   "metadata": {},
   "outputs": [],
   "source": [
    "patient = 'cb46fd46'\n",
    "days = [3,4]\n",
    "wsize = 1\n",
    "sliding = False\n"
   ]
  },
  {
   "cell_type": "code",
   "execution_count": null,
   "metadata": {},
   "outputs": [],
   "source": [
    "patient = 'cb46fd46'\n",
    "days = [3,4,5,6,7]\n",
    "wsize = 100\n",
    "sliding = 25\n",
    "s_sample = 0\n",
    "e_sample = 150000\n",
    "s_sample_ev = 150000\n",
    "e_sample_ev = 190000\n",
    "expvar = 90\n",
    "configs =dict()\n",
    "configs['patient']=patient\n",
    "configs['days']=days\n",
    "configs['wsize']=wsize\n",
    "configs['sliding']=sliding\n",
    "configs['s_sample']=s_sample\n",
    "configs['e_sample']=e_sample\n",
    "configs['s_sample_ev']=s_sample_ev\n",
    "configs['e_sample_ev']=e_sample_ev\n",
    "configs['expvar'] = expvar"
   ]
  },
  {
   "cell_type": "code",
   "execution_count": null,
   "metadata": {},
   "outputs": [],
   "source": [
    "#generate data here, to parallelize\n"
   ]
  },
  {
   "cell_type": "code",
   "execution_count": null,
   "metadata": {
    "scrolled": false
   },
   "outputs": [],
   "source": [
    "print('los')\n",
    "#provider.reload_generators()\n",
    "muell = provider.get_data(configs)\n",
    "del(provider)\n",
    "del(muell)"
   ]
  },
  {
   "cell_type": "code",
   "execution_count": null,
   "metadata": {},
   "outputs": [],
   "source": [
    "#generate data here, to parallelize\n",
    "patient = 'cb46fd46'\n",
    "days = [3,4,5,6,8]\n",
    "wsize = 30\n",
    "sliding = False\n",
    "s_sample = 0\n",
    "e_sample = 200000\n",
    "s_sample_ev = 200000\n",
    "e_sample_ev = 250000\n",
    "expvar = 90\n",
    "configs =dict()\n",
    "configs['patient']=patient\n",
    "configs['days']=days\n",
    "configs['wsize']=wsize\n",
    "configs['sliding']=sliding\n",
    "configs['s_sample']=s_sample\n",
    "configs['e_sample']=e_sample\n",
    "configs['s_sample_ev']=s_sample_ev\n",
    "configs['e_sample_ev']=e_sample_ev\n",
    "configs['expvar'] = expvar"
   ]
  },
  {
   "cell_type": "code",
   "execution_count": null,
   "metadata": {},
   "outputs": [],
   "source": [
    "x,y,x_ev,y_ev = provider.get_data(configs)"
   ]
  },
  {
   "cell_type": "code",
   "execution_count": null,
   "metadata": {},
   "outputs": [],
   "source": [
    "del(x)\n",
    "del(y)\n",
    "del(y_ev)\n",
    "del(x_ev)\n",
    "del(provider)"
   ]
  }
 ],
 "metadata": {
  "kernelspec": {
   "display_name": "P3 emocog",
   "language": "python",
   "name": "emocog"
  },
  "language_info": {
   "codemirror_mode": {
    "name": "ipython",
    "version": 3
   },
   "file_extension": ".py",
   "mimetype": "text/x-python",
   "name": "python",
   "nbconvert_exporter": "python",
   "pygments_lexer": "ipython3",
   "version": "3.7.4"
  }
 },
 "nbformat": 4,
 "nbformat_minor": 2
}
