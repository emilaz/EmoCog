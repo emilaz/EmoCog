{
 "cells": [
  {
   "cell_type": "code",
   "execution_count": 1,
   "metadata": {},
   "outputs": [],
   "source": [
    "%load_ext autoreload\n",
    "%autoreload 2"
   ]
  },
  {
   "cell_type": "code",
   "execution_count": 2,
   "metadata": {},
   "outputs": [
    {
     "name": "stderr",
     "output_type": "stream",
     "text": [
      "/home/emil/miniconda3/envs/emocog/lib/python3.7/site-packages/hypertools/plot/__init__.py:10: UserWarning: Could not switch backend to TkAgg.  This may impact performance of the plotting functions.\n",
      "  warnings.warn('Could not switch backend to TkAgg.  This may impact performance of the plotting functions.')\n",
      "/home/emil/miniconda3/envs/emocog/lib/python3.7/site-packages/sklearn/externals/joblib/__init__.py:15: DeprecationWarning: sklearn.externals.joblib is deprecated in 0.21 and will be removed in 0.23. Please import this functionality directly from joblib, which can be installed with: pip install joblib. If this warning is raised when loading pickled models, you may need to re-serialize those models with scikit-learn 0.21+.\n",
      "  warnings.warn(msg, category=DeprecationWarning)\n"
     ]
    }
   ],
   "source": [
    "import sys\n",
    "sys.path.append('..')\n",
    "import numpy as np\n",
    "import matplotlib.pyplot as plt\n",
    "import pandas as pd\n",
    "import os\n",
    "\n",
    "from Vis import ClassificationVis, LabelVis\n",
    "from Evals import *\n",
    "from Data_Provider import *\n",
    "from Util import ClassificationUtils as util\n",
    "from Util import DataUtils as dutil\n",
    "\n",
    "\n",
    "import numpy as np\n",
    "from scipy import interp\n",
    "import matplotlib.pyplot as plt\n",
    "\n",
    "from sklearn import svm, datasets\n",
    "from sklearn.model_selection import StratifiedKFold\n",
    "from sklearn.ensemble import RandomForestClassifier"
   ]
  },
  {
   "cell_type": "code",
   "execution_count": 3,
   "metadata": {},
   "outputs": [],
   "source": [
    "# #important configs\n",
    "# configs = dutil.load_configs()\n",
    "# print(configs) #is this what we want?"
   ]
  },
  {
   "cell_type": "code",
   "execution_count": 4,
   "metadata": {},
   "outputs": [],
   "source": [
    "# print(x.shape)\n",
    "# print(y.shape)\n",
    "# print(x_ev.shape)\n",
    "# print(y_ev.shape)\n",
    "\n",
    "# LabelVis.plot_happy_bars(y,y_ev)\n"
   ]
  },
  {
   "cell_type": "code",
   "execution_count": 5,
   "metadata": {},
   "outputs": [],
   "source": [
    "# Run classifier with cross-validation\n",
    "def calc_results_and_save(x,y,x_ev,y_ev, configs):\n",
    "    cv = StratifiedKFold(n_splits=10,shuffle=True,random_state=1)\n",
    "    results = pd.DataFrame(columns=('C','Gamma','Degree','AVG PR'))#,'AUC ROC'))\n",
    "    degree=np.random.choice(np.arange(10)[1:],50)\n",
    "    cs = np.random.uniform(0,4,50)\n",
    "    gammas = 2**(np.random.choice(18,50)-15.)\n",
    "\n",
    "    for idx,(deg,c,g) in enumerate(zip(degree,cs,gammas)):\n",
    "        classifier = svm.SVC(cache_size=16000, C=c,kernel='poly', probability = True,gamma =g,degree=deg,random_state=5)\n",
    "        auc_pr = util.get_auc_score(classifier, cv, x, y, go_after_pr=True)\n",
    "        #auc_roc =util.get_auc_score(classifier, cv, x, y, go_after_pr=False)\n",
    "        results.loc[idx] = [c,g,deg, auc_pr]\n",
    "        print('Gamma = %.6f, Dim = %d, C= %.2f, Avg PR %.3f' %(g,deg,c,auc_pr))\n",
    "    dutil.save_results(results,configs,'_poly') # save results for later use\n",
    "    return results\n",
    "\n",
    "def get_best_hyperparas(results):\n",
    "    best_choice = util.get_best_hyperparas_results(results, col='Avg PR') #what were the best hyperparas?\n",
    "    print(best_choice)\n",
    "    best_c,best_g,best_d =best_choice[:3]\n",
    "    return best_c,best_g,best_d\n",
    "\n",
    "def vis_results(x,y, x_ev, y_ev, best_c, best_g, best_d):\n",
    "    ###using hyperpara found, evaluate and get pretty plots\n",
    "    cv = StratifiedKFold(n_splits=10, shuffle=True, random_state=1)\n",
    "\n",
    "    classifier = svm.SVC(C=best_c,kernel='poly', probability = True,gamma =best_g,degree=best_d,random_state=5)\n",
    "    best_thr = util.get_optimal_threshold(classifier, cv, x, y, go_after_pr=True) # get threshold using cv\n",
    "    y_pred,y_pred_ev = util.fit_predict(classifier, best_thr, x, y, x_ev, y_ev) # using that threshold, get predictions and f1 score\n",
    "    f1_tr=get_f1(y_pred,y) # calculate f1 scores for prediction on train set\n",
    "    f1_ev=get_f1(y_pred_ev,y_ev)\n",
    "    prec_tr,recall_tr = get_precision_recall(y_pred,y)\n",
    "    prec_ev,recall_ev = get_precision_recall(y_pred_ev,y_ev)\n",
    "\n",
    "    print(prec_tr, recall_tr,f1_tr)\n",
    "    print(prec_ev, recall_ev,f1_ev)\n",
    "    ClassificationVis.conf_mat(y_pred,y)\n",
    "    ClassificationVis.conf_mat(y_pred_ev,y_ev)\n",
    "    plt.show()\n",
    "\n",
    "    ClassificationVis.plot_roc(x,y,classifier, 'SVC w/ Poly Kernel, degree= {:.2f}, C= {:.2f} Gamma = {:.2f}'.format(best_d,best_c, best_g))\n",
    "    ClassificationVis.plot_roc(x_ev,y_ev,classifier, 'SVC w/ Poly Kernel, degree= {:.2f}, C= {:.2f} Gamma = {:.2f}'.format(best_d,best_c, best_g))\n",
    "    ClassificationVis.plot_pr_curve(x,y,classifier, 'SVC w/ Poly Kernel, degree= {:.2f}, C= {:.2f} Gamma = {:.2f}'.format(best_d,best_c, best_g))\n",
    "    ClassificationVis.plot_pr_curve(x_ev,y_ev,classifier,'SVC w/ Poly Kernel, degree= {:.2f}, C= {:.2f} Gamma = {:.2f}'.format(best_d,best_c, best_g))\n",
    "\n",
    "\n"
   ]
  },
  {
   "cell_type": "code",
   "execution_count": 6,
   "metadata": {},
   "outputs": [],
   "source": [
    "%matplotlib inline"
   ]
  },
  {
   "cell_type": "code",
   "execution_count": null,
   "metadata": {},
   "outputs": [
    {
     "name": "stdout",
     "output_type": "stream",
     "text": [
      "File ws_30_str_5_tr_s_0_e_30000_ev_s_30000_e_35000_expvar_90.hdf\n",
      "Cut= 0.1\n",
      "Loading Data from File..done\n",
      "Doing cutoff\n",
      "(5182, 99)\n",
      "Gamma = 0.000244, Dim = 1, C= 2.46, Avg PR 0.550\n",
      "Gamma = 0.007812, Dim = 7, C= 3.07, Avg PR 0.885\n",
      "Gamma = 0.003906, Dim = 2, C= 2.89, Avg PR 0.937\n",
      "Gamma = 0.003906, Dim = 2, C= 2.51, Avg PR 0.933\n"
     ]
    }
   ],
   "source": [
    "files = [f for f in os.listdir('/home/emil/OpenMindv2/data') if f.endswith('hdf')]\n",
    "provider = DataProvider()\n",
    "for file in files:\n",
    "    print('File',file)\n",
    "    for cut in [.1,.2,.4]:\n",
    "        print('Cut=',cut)\n",
    "        configs = dutil.generate_configs_from_file(file, cut)\n",
    "        x,y,x_ev,y_ev = provider.get_data(configs)\n",
    "        print(x.shape)\n",
    "        res = calc_results_and_save(x,y,x_ev,y_ev, configs)\n",
    "#         a,b,c = get_best_hyperparas(res)\n",
    "#         vis_results(x,y, x_ev, y_ev,a,b,c)\n",
    "\n",
    "        "
   ]
  },
  {
   "cell_type": "code",
   "execution_count": null,
   "metadata": {},
   "outputs": [],
   "source": []
  }
 ],
 "metadata": {
  "kernelspec": {
   "display_name": "P3 emocog",
   "language": "python",
   "name": "emocog"
  },
  "language_info": {
   "codemirror_mode": {
    "name": "ipython",
    "version": 3
   },
   "file_extension": ".py",
   "mimetype": "text/x-python",
   "name": "python",
   "nbconvert_exporter": "python",
   "pygments_lexer": "ipython3",
   "version": "3.7.4"
  }
 },
 "nbformat": 4,
 "nbformat_minor": 2
}
