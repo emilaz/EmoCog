{
 "cells": [
  {
   "cell_type": "code",
   "execution_count": 8,
   "metadata": {},
   "outputs": [
    {
     "name": "stdout",
     "output_type": "stream",
     "text": [
      "The autoreload extension is already loaded. To reload it, use:\n",
      "  %reload_ext autoreload\n"
     ]
    }
   ],
   "source": [
    "%load_ext autoreload\n",
    "%autoreload 2"
   ]
  },
  {
   "cell_type": "code",
   "execution_count": 9,
   "metadata": {},
   "outputs": [],
   "source": [
    "import sys\n",
    "sys.path.append('..')\n",
    "import numpy as np\n",
    "import matplotlib.pyplot as plt\n",
    "import pandas as pd\n",
    "\n",
    "import vis.classification_vis as cvis\n",
    "from Evals import *\n",
    "from Data_Provider import *\n",
    "import util.classification_utils as util\n",
    "import util.data_utils as dutil\n",
    "import util.label_utils as lutil\n",
    "\n",
    "\n",
    "import numpy as np\n",
    "from scipy import interp\n",
    "import matplotlib.pyplot as plt\n",
    "\n",
    "from sklearn import svm, datasets\n",
    "from sklearn.model_selection import StratifiedKFold\n",
    "from sklearn.ensemble import RandomForestClassifier\n",
    "import os\n",
    "\n",
    "from itertools import product\n",
    "from multiprocessing import Pool\n"
   ]
  },
  {
   "cell_type": "code",
   "execution_count": 13,
   "metadata": {},
   "outputs": [],
   "source": [
    "# Run classifier with cross-validation\n",
    "def calc_results_and_save(x, y, configs,shuff):\n",
    "    cv = StratifiedKFold(n_splits=10,shuffle=shuff,random_state=1)\n",
    "    results = pd.DataFrame(columns=('C','Gamma','Degree','AVG PR'))#,'AUC ROC'))\n",
    "    degree=np.random.choice(np.arange(10)[1:],50)\n",
    "    cs = np.random.uniform(0,4,50)\n",
    "    gammas = 2**(np.random.choice(18,50)-15.)\n",
    "\n",
    "    for idx,(deg,c,g) in enumerate(zip(degree,cs,gammas)):\n",
    "        classifier = svm.SVC(cache_size=16000, C=c,kernel='poly', probability = True,gamma =g,degree=deg,random_state=5)\n",
    "        auc_pr = util.get_auc_score(classifier, cv, x, y, go_after_pr=True)\n",
    "        #auc_roc =util.get_auc_score(classifier, cv, x, y, go_after_pr=False)\n",
    "        results.loc[idx] = [c,g,deg, auc_pr]\n",
    "        print('Gamma = %.6f, Dim = %d, C= %.2f, Avg PR %.3f' %(g,deg,c,auc_pr))\n",
    "    if shuff:\n",
    "        dutil.save_results(results,configs,'Poly') # save results for later use\n",
    "    else:\n",
    "        dutil.save_results(results,configs,'Poly_NoShuffle') # save results for later use \n",
    "    return results\n",
    "\n",
    "\n",
    "def vis_results(x,y, x_ev, y_ev, hypers):\n",
    "    best_c, best_g, best_d = hypers\n",
    "    ###using hyperpara found, evaluate and get pretty plots\n",
    "    cv = StratifiedKFold(n_splits=10, shuffle=False, random_state=1)\n",
    "    classifier = svm.SVC(C=best_c,kernel='poly', probability = True,gamma =best_g,degree=best_d,random_state=5)\n",
    "    best_thr = util.get_optimal_threshold(classifier, cv, x, y, go_after_pr=True) # get threshold using cv\n",
    "    y_pred,y_pred_ev = util.fit_predict(classifier, best_thr, x, y, x_ev, y_ev) # using that threshold, get predictions and f1 score\n",
    "    f1_tr=get_f1(y_pred,y) # calculate f1 scores for prediction on train set\n",
    "    f1_ev=get_f1(y_pred_ev,y_ev)\n",
    "    prec_tr,recall_tr = get_precision_recall(y_pred,y)\n",
    "    prec_ev,recall_ev = get_precision_recall(y_pred_ev,y_ev)\n",
    "\n",
    "    print('Training, Precision: {0:.3f}, Recall: {1:.3f}, F1: {2:.3f}'.format(prec_tr, recall_tr,f1_tr))\n",
    "    print('Eval, Precision: {0:.3f}, Recall: {1:.3f}, F1: {2:.3f}'.format(prec_ev, recall_ev,f1_ev))\n",
    "    cvis.conf_mat(y_pred,y)\n",
    "    cvis.conf_mat(y_pred_ev,y_ev)\n",
    "    plt.show()\n",
    "\n",
    "    cvis.plot_roc(x,y,classifier, 'SVC w/ Poly Kernel, degree= {:.2f}, C= {:.2f} Gamma = {:.2f}'.format(best_d,best_c, best_g))\n",
    "    cvis.plot_roc(x_ev,y_ev,classifier, 'SVC w/ Poly Kernel, degree= {:.2f}, C= {:.2f} Gamma = {:.2f}'.format(best_d,best_c, best_g))\n",
    "    cvis.plot_pr_curve(x,y,classifier, 'SVC w/ Poly Kernel, degree= {:.2f}, C= {:.2f} Gamma = {:.2f}'.format(best_d,best_c, best_g))\n",
    "    cvis.plot_pr_curve(x_ev,y_ev,classifier,'SVC w/ Poly Kernel, degree= {:.2f}, C= {:.2f} Gamma = {:.2f}'.format(best_d,best_c, best_g))\n",
    "\n",
    "\n",
    "def do_all(file, cut, shuffled=False, random = False):\n",
    "    provider = DataProvider()\n",
    "    configs = dutil.generate_configs_from_file(file, cut)\n",
    "    print(configs)\n",
    "    x,y,x_ev,y_ev = provider.get_data(configs)\n",
    "#def do_all(x,y,x_ev,y_ev, shuffled=True):\n",
    "    if random:\n",
    "        np.random.seed()\n",
    "        y = randomize_labels(y)\n",
    "        y_ev = randomize_labels(y_ev)\n",
    "    res = calc_results_and_save(x,y,configs,shuffled)\n",
    "    #hypers = util.get_best_hyperparas(res,'AVG PR')\n",
    "    #vis_results(x,y, x_ev, y_ev,hypers)\n",
    "    \n",
    "def randomize_labels(y):\n",
    "    ones = int(np.sum(y))\n",
    "    #where?\n",
    "    fill_ones = np.random.choice(len(y),ones, replace=False)\n",
    "    ret = np.empty(len(y))\n",
    "    ret[:]=0\n",
    "    ret[fill_ones]=1\n",
    "    return ret\n",
    "    "
   ]
  },
  {
   "cell_type": "code",
   "execution_count": 14,
   "metadata": {},
   "outputs": [],
   "source": [
    "%matplotlib inline"
   ]
  },
  {
   "cell_type": "code",
   "execution_count": 15,
   "metadata": {
    "scrolled": false
   },
   "outputs": [
    {
     "name": "stdout",
     "output_type": "stream",
     "text": [
      "{'wsize': 100, 'sliding': 25, 's_sample': 0, 'e_sample': 200000, 's_sample_ev': 200000, 'e_sample_ev': 250000, 'expvar': 90, 'cutoff': 0.2}\n",
      "{'wsize': 100, 'sliding': 25, 's_sample': 0, 'e_sample': 200000, 's_sample_ev': 200000, 'e_sample_ev': 250000, 'expvar': 90, 'cutoff': 0.3}\n",
      "{'wsize': 100, 'sliding': 25, 's_sample': 0, 'e_sample': 200000, 's_sample_ev': 200000, 'e_sample_ev': 250000, 'expvar': 90, 'cutoff': 0.1}\n",
      "{'wsize': 50, 'sliding': 25, 's_sample': 0, 'e_sample': 200000, 's_sample_ev': 200000, 'e_sample_ev': 250000, 'expvar': 90, 'cutoff': 0.1}\n",
      "/home/emil/OpenMindv2/data/several_days/wsize_100_sliding_25_s_sample_0_e_sample_200000_s_sample_ev_200000_e_sample_ev_250000_expvar_90.hdf\n",
      "{'wsize': 50, 'sliding': 25, 's_sample': 0, 'e_sample': 200000, 's_sample_ev': 200000, 'e_sample_ev': 250000, 'expvar': 90, 'cutoff': 0.2}\n",
      "{'wsize': 30, 'sliding': 'False', 's_sample': 0, 'e_sample': 200000, 's_sample_ev': 200000, 'e_sample_ev': 250000, 'expvar': 90, 'cutoff': 0.1}\n",
      "{'wsize': 50, 'sliding': 25, 's_sample': 0, 'e_sample': 200000, 's_sample_ev': 200000, 'e_sample_ev': 250000, 'expvar': 90, 'cutoff': 0.3}\n",
      "{'wsize': 30, 'sliding': 'False', 's_sample': 0, 'e_sample': 200000, 's_sample_ev': 200000, 'e_sample_ev': 250000, 'expvar': 90, 'cutoff': 0.2}\n",
      "/home/emil/OpenMindv2/data/several_days/wsize_30_sliding_False_s_sample_0_e_sample_200000_s_sample_ev_200000_e_sample_ev_250000_expvar_90.hdf\n",
      "/home/emil/OpenMindv2/data/several_days/wsize_100_sliding_25_s_sample_0_e_sample_200000_s_sample_ev_200000_e_sample_ev_250000_expvar_90.hdf\n",
      "/home/emil/OpenMindv2/data/several_days/wsize_50_sliding_25_s_sample_0_e_sample_200000_s_sample_ev_200000_e_sample_ev_250000_expvar_90.hdf\n",
      "/home/emil/OpenMindv2/data/several_days/wsize_100_sliding_25_s_sample_0_e_sample_200000_s_sample_ev_200000_e_sample_ev_250000_expvar_90.hdf\n",
      "/home/emil/OpenMindv2/data/several_days/wsize_50_sliding_25_s_sample_0_e_sample_200000_s_sample_ev_200000_e_sample_ev_250000_expvar_90.hdf\n",
      "/home/emil/OpenMindv2/data/several_days/wsize_50_sliding_25_s_sample_0_e_sample_200000_s_sample_ev_200000_e_sample_ev_250000_expvar_90.hdf\n",
      "/home/emil/OpenMindv2/data/several_days/wsize_30_sliding_False_s_sample_0_e_sample_200000_s_sample_ev_200000_e_sample_ev_250000_expvar_90.hdf\n",
      "Loading Data from File..done\n",
      "Loading Data from File..done\n",
      "Loading Data from File..done\n",
      "Loading Data from File..done\n",
      "Loading Data from File..done\n",
      "Doing cutoff\n",
      "Loading Data from File..done\n",
      "Doing cutoff\n",
      "Doing cutoff\n",
      "Doing cutoff\n",
      "Loading Data from File..done\n",
      "{'wsize': 30, 'sliding': 'False', 's_sample': 0, 'e_sample': 200000, 's_sample_ev': 200000, 'e_sample_ev': 250000, 'expvar': 90, 'cutoff': 0.3}\n",
      "Doing cutoff\n",
      "Doing cutoff\n",
      "Loading Data from File..done\n",
      "Doing cutoff\n",
      "/home/emil/OpenMindv2/data/several_days/wsize_30_sliding_False_s_sample_0_e_sample_200000_s_sample_ev_200000_e_sample_ev_250000_expvar_90.hdf\n",
      "Doing cutoff\n",
      "Loading Data from File..done\n",
      "Doing cutoff\n"
     ]
    },
    {
     "ename": "NameError",
     "evalue": "name 'shuffled' is not defined",
     "output_type": "error",
     "traceback": [
      "\u001b[0;31m---------------------------------------------------------------------------\u001b[0m",
      "\u001b[0;31mRemoteTraceback\u001b[0m                           Traceback (most recent call last)",
      "\u001b[0;31mRemoteTraceback\u001b[0m: \n\"\"\"\nTraceback (most recent call last):\n  File \"/home/emil/miniconda3/envs/emocog/lib/python3.7/multiprocessing/pool.py\", line 121, in worker\n    result = (True, func(*args, **kwds))\n  File \"/home/emil/miniconda3/envs/emocog/lib/python3.7/multiprocessing/pool.py\", line 47, in starmapstar\n    return list(itertools.starmap(args[0], args[1]))\n  File \"<ipython-input-13-03913bcc80ff>\", line 52, in do_all\n    if shuffled:\nNameError: name 'shuffled' is not defined\n\"\"\"",
      "\nThe above exception was the direct cause of the following exception:\n",
      "\u001b[0;31mNameError\u001b[0m                                 Traceback (most recent call last)",
      "\u001b[0;32m<ipython-input-15-ac2d4915f2b2>\u001b[0m in \u001b[0;36m<module>\u001b[0;34m\u001b[0m\n\u001b[1;32m      8\u001b[0m \u001b[0;34m\u001b[0m\u001b[0m\n\u001b[1;32m      9\u001b[0m \u001b[0mpool\u001b[0m \u001b[0;34m=\u001b[0m \u001b[0mmp\u001b[0m\u001b[0;34m.\u001b[0m\u001b[0mPool\u001b[0m\u001b[0;34m(\u001b[0m\u001b[0;36m8\u001b[0m\u001b[0;34m)\u001b[0m\u001b[0;34m\u001b[0m\u001b[0;34m\u001b[0m\u001b[0m\n\u001b[0;32m---> 10\u001b[0;31m \u001b[0myass\u001b[0m \u001b[0;34m=\u001b[0m \u001b[0mpool\u001b[0m\u001b[0;34m.\u001b[0m\u001b[0mstarmap\u001b[0m\u001b[0;34m(\u001b[0m\u001b[0mdo_all\u001b[0m\u001b[0;34m,\u001b[0m\u001b[0mfile_cut_combos\u001b[0m\u001b[0;34m)\u001b[0m\u001b[0;34m\u001b[0m\u001b[0;34m\u001b[0m\u001b[0m\n\u001b[0m",
      "\u001b[0;32m~/miniconda3/envs/emocog/lib/python3.7/multiprocessing/pool.py\u001b[0m in \u001b[0;36mstarmap\u001b[0;34m(self, func, iterable, chunksize)\u001b[0m\n\u001b[1;32m    274\u001b[0m         \u001b[0;31m`\u001b[0m\u001b[0mfunc\u001b[0m\u001b[0;31m`\u001b[0m \u001b[0;32mand\u001b[0m \u001b[0;34m(\u001b[0m\u001b[0ma\u001b[0m\u001b[0;34m,\u001b[0m \u001b[0mb\u001b[0m\u001b[0;34m)\u001b[0m \u001b[0mbecomes\u001b[0m \u001b[0mfunc\u001b[0m\u001b[0;34m(\u001b[0m\u001b[0ma\u001b[0m\u001b[0;34m,\u001b[0m \u001b[0mb\u001b[0m\u001b[0;34m)\u001b[0m\u001b[0;34m.\u001b[0m\u001b[0;34m\u001b[0m\u001b[0;34m\u001b[0m\u001b[0m\n\u001b[1;32m    275\u001b[0m         '''\n\u001b[0;32m--> 276\u001b[0;31m         \u001b[0;32mreturn\u001b[0m \u001b[0mself\u001b[0m\u001b[0;34m.\u001b[0m\u001b[0m_map_async\u001b[0m\u001b[0;34m(\u001b[0m\u001b[0mfunc\u001b[0m\u001b[0;34m,\u001b[0m \u001b[0miterable\u001b[0m\u001b[0;34m,\u001b[0m \u001b[0mstarmapstar\u001b[0m\u001b[0;34m,\u001b[0m \u001b[0mchunksize\u001b[0m\u001b[0;34m)\u001b[0m\u001b[0;34m.\u001b[0m\u001b[0mget\u001b[0m\u001b[0;34m(\u001b[0m\u001b[0;34m)\u001b[0m\u001b[0;34m\u001b[0m\u001b[0;34m\u001b[0m\u001b[0m\n\u001b[0m\u001b[1;32m    277\u001b[0m \u001b[0;34m\u001b[0m\u001b[0m\n\u001b[1;32m    278\u001b[0m     def starmap_async(self, func, iterable, chunksize=None, callback=None,\n",
      "\u001b[0;32m~/miniconda3/envs/emocog/lib/python3.7/multiprocessing/pool.py\u001b[0m in \u001b[0;36mget\u001b[0;34m(self, timeout)\u001b[0m\n\u001b[1;32m    655\u001b[0m             \u001b[0;32mreturn\u001b[0m \u001b[0mself\u001b[0m\u001b[0;34m.\u001b[0m\u001b[0m_value\u001b[0m\u001b[0;34m\u001b[0m\u001b[0;34m\u001b[0m\u001b[0m\n\u001b[1;32m    656\u001b[0m         \u001b[0;32melse\u001b[0m\u001b[0;34m:\u001b[0m\u001b[0;34m\u001b[0m\u001b[0;34m\u001b[0m\u001b[0m\n\u001b[0;32m--> 657\u001b[0;31m             \u001b[0;32mraise\u001b[0m \u001b[0mself\u001b[0m\u001b[0;34m.\u001b[0m\u001b[0m_value\u001b[0m\u001b[0;34m\u001b[0m\u001b[0;34m\u001b[0m\u001b[0m\n\u001b[0m\u001b[1;32m    658\u001b[0m \u001b[0;34m\u001b[0m\u001b[0m\n\u001b[1;32m    659\u001b[0m     \u001b[0;32mdef\u001b[0m \u001b[0m_set\u001b[0m\u001b[0;34m(\u001b[0m\u001b[0mself\u001b[0m\u001b[0;34m,\u001b[0m \u001b[0mi\u001b[0m\u001b[0;34m,\u001b[0m \u001b[0mobj\u001b[0m\u001b[0;34m)\u001b[0m\u001b[0;34m:\u001b[0m\u001b[0;34m\u001b[0m\u001b[0;34m\u001b[0m\u001b[0m\n",
      "\u001b[0;31mNameError\u001b[0m: name 'shuffled' is not defined"
     ]
    }
   ],
   "source": [
    "files = [f for f in os.listdir('/home/emil/OpenMindv2/data/several_days') if f.endswith('hdf')]\n",
    "cuts = [.1,.2,.3]\n",
    "shuffle =[False] \n",
    "all_elements = [files,cuts,[shuffle]]\n",
    "file_cut_combos = []\n",
    "for allel in product(*all_elements):\n",
    "    file_cut_combos+=[allel]\n",
    "    \n",
    "pool = mp.Pool(8)\n",
    "yass = pool.starmap(do_all,file_cut_combos)"
   ]
  },
  {
   "cell_type": "code",
   "execution_count": null,
   "metadata": {},
   "outputs": [],
   "source": []
  }
 ],
 "metadata": {
  "kernelspec": {
   "display_name": "P3 emocog",
   "language": "python",
   "name": "emocog"
  },
  "language_info": {
   "codemirror_mode": {
    "name": "ipython",
    "version": 3
   },
   "file_extension": ".py",
   "mimetype": "text/x-python",
   "name": "python",
   "nbconvert_exporter": "python",
   "pygments_lexer": "ipython3",
   "version": "3.7.4"
  }
 },
 "nbformat": 4,
 "nbformat_minor": 2
}
