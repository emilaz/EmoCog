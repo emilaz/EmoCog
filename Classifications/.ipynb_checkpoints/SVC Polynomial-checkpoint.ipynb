{
 "cells": [
  {
   "cell_type": "code",
   "execution_count": 1,
   "metadata": {},
   "outputs": [],
   "source": [
    "%load_ext autoreload\n",
    "%autoreload 2"
   ]
  },
  {
   "cell_type": "code",
   "execution_count": 2,
   "metadata": {},
   "outputs": [
    {
     "name": "stderr",
     "output_type": "stream",
     "text": [
      "/home/emil/miniconda3/envs/emocog/lib/python3.7/site-packages/hypertools/plot/__init__.py:10: UserWarning: Could not switch backend to TkAgg.  This may impact performance of the plotting functions.\n",
      "  warnings.warn('Could not switch backend to TkAgg.  This may impact performance of the plotting functions.')\n",
      "/home/emil/miniconda3/envs/emocog/lib/python3.7/site-packages/sklearn/externals/joblib/__init__.py:15: DeprecationWarning: sklearn.externals.joblib is deprecated in 0.21 and will be removed in 0.23. Please import this functionality directly from joblib, which can be installed with: pip install joblib. If this warning is raised when loading pickled models, you may need to re-serialize those models with scikit-learn 0.21+.\n",
      "  warnings.warn(msg, category=DeprecationWarning)\n"
     ]
    },
    {
     "ename": "ImportError",
     "evalue": "cannot import name 'LabelUtils' from 'Util' (../Util.py)",
     "output_type": "error",
     "traceback": [
      "\u001b[0;31m---------------------------------------------------------------------------\u001b[0m",
      "\u001b[0;31mImportError\u001b[0m                               Traceback (most recent call last)",
      "\u001b[0;32m<ipython-input-2-a473fa156322>\u001b[0m in \u001b[0;36m<module>\u001b[0;34m\u001b[0m\n\u001b[1;32m     10\u001b[0m \u001b[0;32mfrom\u001b[0m \u001b[0mUtil\u001b[0m \u001b[0;32mimport\u001b[0m \u001b[0mClassificationUtils\u001b[0m \u001b[0;32mas\u001b[0m \u001b[0mutil\u001b[0m\u001b[0;34m\u001b[0m\u001b[0;34m\u001b[0m\u001b[0m\n\u001b[1;32m     11\u001b[0m \u001b[0;32mfrom\u001b[0m \u001b[0mUtil\u001b[0m \u001b[0;32mimport\u001b[0m \u001b[0mDataUtils\u001b[0m \u001b[0;32mas\u001b[0m \u001b[0mdutil\u001b[0m\u001b[0;34m\u001b[0m\u001b[0;34m\u001b[0m\u001b[0m\n\u001b[0;32m---> 12\u001b[0;31m \u001b[0;32mfrom\u001b[0m \u001b[0mUtil\u001b[0m \u001b[0;32mimport\u001b[0m \u001b[0mLabelUtils\u001b[0m \u001b[0;32mas\u001b[0m \u001b[0mlutil\u001b[0m\u001b[0;34m\u001b[0m\u001b[0;34m\u001b[0m\u001b[0m\n\u001b[0m\u001b[1;32m     13\u001b[0m \u001b[0;34m\u001b[0m\u001b[0m\n\u001b[1;32m     14\u001b[0m \u001b[0;34m\u001b[0m\u001b[0m\n",
      "\u001b[0;31mImportError\u001b[0m: cannot import name 'LabelUtils' from 'Util' (../Util.py)"
     ]
    }
   ],
   "source": [
    "import sys\n",
    "sys.path.append('..')\n",
    "import numpy as np\n",
    "import matplotlib.pyplot as plt\n",
    "import pandas as pd\n",
    "\n",
    "from Vis import ClassificationVis, LabelVis\n",
    "from Evals import *\n",
    "from Data_Provider import *\n",
    "from Util import ClassificationUtils as util\n",
    "from Util import DataUtils as dutil\n",
    "\n",
    "\n",
    "import numpy as np\n",
    "from scipy import interp\n",
    "import matplotlib.pyplot as plt\n",
    "\n",
    "from sklearn import svm, datasets\n",
    "from sklearn.model_selection import StratifiedKFold\n",
    "from sklearn.ensemble import RandomForestClassifier"
   ]
  },
  {
   "cell_type": "code",
   "execution_count": null,
   "metadata": {},
   "outputs": [],
   "source": [
    "#important configs\n",
    "configs = dutil.load_configs()\n",
    "print(configs) #is this what we want?"
   ]
  },
  {
   "cell_type": "code",
   "execution_count": null,
   "metadata": {},
   "outputs": [],
   "source": [
    "try:\n",
    "    x,y,x_ev,y_ev = dutil.get_data_from_file(configs)\n",
    "except:\n",
    "    raise NameError('File does not exist')\n"
   ]
  },
  {
   "cell_type": "code",
   "execution_count": null,
   "metadata": {},
   "outputs": [],
   "source": [
    "print(x.shape)\n",
    "print(y.shape)\n",
    "print(x_ev.shape)\n",
    "print(y_ev.shape)\n",
    "\n",
    "LabelVis.plot_happy_bars(y,y_ev)\n"
   ]
  },
  {
   "cell_type": "code",
   "execution_count": null,
   "metadata": {},
   "outputs": [],
   "source": [
    "# Run classifier with cross-validation\n",
    "cv = StratifiedKFold(n_splits=10,shuffle=False,random_state=1)\n",
    "results_poly = pd.DataFrame(columns=('C','Gamma','Degree','Avg PR'))#,'AUC ROC'))\n",
    "degree=np.random.choice(np.arange(10)[1:],50)\n",
    "cs = np.random.uniform(0,4,50)\n",
    "gammas = 2**(np.random.choice(18,50)-15.)\n",
    "\n",
    "for idx,(deg,c,g) in enumerate(zip(degree,cs,gammas)):\n",
    "    classifier = svm.SVC(C=c,kernel='poly', probability = True,gamma =g,degree=deg,random_state=5)\n",
    "    auc_pr = util.get_auc_score(classifier, cv, x, y, go_after_pr=True)\n",
    "    #auc_roc =util.get_auc_score(classifier, cv, x, y, go_after_pr=False)\n",
    "    results_poly.loc[idx] = [c,g,deg, auc_pr]\n",
    "    print('Gamma = %.6f, Dim = %d, C= %.2f, Avg PR %.3f' %(g,deg,c,auc_pr))"
   ]
  },
  {
   "cell_type": "code",
   "execution_count": null,
   "metadata": {},
   "outputs": [],
   "source": [
    "dutil.save_results(results_poly,configs,'_poly_noshuffle') # save results for later use"
   ]
  },
  {
   "cell_type": "code",
   "execution_count": null,
   "metadata": {},
   "outputs": [],
   "source": [
    "best_choice = util.get_best_hyperparas_results(results_poly, col='Avg PR') #what were the best hyperparas?\n",
    "print(best_choice)\n",
    "best_c,best_g,best_d =best_choice[:3]\n"
   ]
  },
  {
   "cell_type": "code",
   "execution_count": null,
   "metadata": {
    "scrolled": false
   },
   "outputs": [],
   "source": [
    "###using hyperpara found, evaluate and get pretty plots\n",
    "\n",
    "classifier = svm.SVC(C=best_c,kernel='poly', probability = True,gamma =best_g,degree=best_d,random_state=5)\n",
    "best_thr = util.get_optimal_threshold(classifier, cv, x, y, go_after_pr=True) # get threshold using cv\n",
    "y_pred,y_pred_ev = util.fit_predict(classifier, best_thr, x, y, x_ev, y_ev) # using that threshold, get predictions and f1 score\n",
    "f1_tr=get_f1(y_pred,y) # calculate f1 scores for prediction on train set\n",
    "f1_ev=get_f1(y_pred_ev,y_ev)\n",
    "prec_tr,recall_tr = get_precision_recall(y_pred,y)\n",
    "prec_ev,recall_ev = get_precision_recall(y_pred_ev,y_ev)\n",
    "\n",
    "print(prec_tr, recall_tr,f1_tr)\n",
    "print(prec_ev, recall_ev,f1_ev)\n",
    "ClassificationVis.conf_mat(y_pred,y)\n",
    "ClassificationVis.conf_mat(y_pred_ev,y_ev)\n",
    "plt.show()\n",
    "\n",
    "ClassificationVis.plot_roc(x,y,classifier, 'SVC w/ Poly Kernel, degree= {:.2f}, C= {:.2f} Gamma = {:.2f}'.format(best_d,best_c, best_g))\n",
    "ClassificationVis.plot_roc(x_ev,y_ev,classifier, 'SVC w/ Poly Kernel, degree= {:.2f}, C= {:.2f} Gamma = {:.2f}'.format(best_d,best_c, best_g))\n",
    "ClassificationVis.plot_pr_curve(x,y,classifier, 'SVC w/ Poly Kernel, degree= {:.2f}, C= {:.2f} Gamma = {:.2f}'.format(best_d,best_c, best_g))\n",
    "ClassificationVis.plot_pr_curve(x_ev,y_ev,classifier,'SVC w/ Poly Kernel, degree= {:.2f}, C= {:.2f} Gamma = {:.2f}'.format(best_d,best_c, best_g))"
   ]
  },
  {
   "cell_type": "code",
   "execution_count": null,
   "metadata": {},
   "outputs": [],
   "source": []
  }
 ],
 "metadata": {
  "kernelspec": {
   "display_name": "P3 emocog",
   "language": "python",
   "name": "emocog"
  },
  "language_info": {
   "codemirror_mode": {
    "name": "ipython",
    "version": 3
   },
   "file_extension": ".py",
   "mimetype": "text/x-python",
   "name": "python",
   "nbconvert_exporter": "python",
   "pygments_lexer": "ipython3",
   "version": "3.7.3"
  }
 },
 "nbformat": 4,
 "nbformat_minor": 2
}
