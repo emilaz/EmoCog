{
 "cells": [
  {
   "cell_type": "code",
   "execution_count": 1,
   "metadata": {},
   "outputs": [],
   "source": [
    "%load_ext autoreload\n",
    "%autoreload 2"
   ]
  },
  {
   "cell_type": "code",
   "execution_count": 2,
   "metadata": {},
   "outputs": [
    {
     "name": "stderr",
     "output_type": "stream",
     "text": [
      "/home/emil/miniconda3/envs/emocog/lib/python3.7/site-packages/hypertools/plot/__init__.py:10: UserWarning: Could not switch backend to TkAgg.  This may impact performance of the plotting functions.\n",
      "  warnings.warn('Could not switch backend to TkAgg.  This may impact performance of the plotting functions.')\n",
      "/home/emil/miniconda3/envs/emocog/lib/python3.7/site-packages/sklearn/externals/joblib/__init__.py:15: DeprecationWarning: sklearn.externals.joblib is deprecated in 0.21 and will be removed in 0.23. Please import this functionality directly from joblib, which can be installed with: pip install joblib. If this warning is raised when loading pickled models, you may need to re-serialize those models with scikit-learn 0.21+.\n",
      "  warnings.warn(msg, category=DeprecationWarning)\n"
     ]
    }
   ],
   "source": [
    "import sys\n",
    "sys.path.append('..')\n",
    "import numpy as np\n",
    "import matplotlib.pyplot as plt\n",
    "import pandas as pd\n",
    "\n",
    "from Vis import ClassificationVis, LabelVis\n",
    "from Evals import *\n",
    "from Data_Provider import *\n",
    "from Util import ClassificationUtils as util\n",
    "from Util import DataUtils as dutil\n",
    "\n",
    "import numpy as np\n",
    "from scipy import interp\n",
    "import matplotlib.pyplot as plt\n",
    "\n",
    "from sklearn import svm, datasets\n",
    "from sklearn.model_selection import StratifiedKFold\n",
    "from sklearn.ensemble import RandomForestClassifier"
   ]
  },
  {
   "cell_type": "code",
   "execution_count": 35,
   "metadata": {},
   "outputs": [
    {
     "name": "stdout",
     "output_type": "stream",
     "text": [
      "{'sliding': 10, 'wsize': 100, 's_sample': 0, 'e_sample': 40000, 's_sample_ev': 30000, 'e_sample_ev': 35000, 'cutoff': 0.2}\n"
     ]
    }
   ],
   "source": [
    "#important configs\n",
    "configs = dutil.load_configs()\n",
    "print(configs) #is this what we want?"
   ]
  },
  {
   "cell_type": "code",
   "execution_count": 36,
   "metadata": {},
   "outputs": [],
   "source": [
    "try:\n",
    "    x,y,x_ev,y_ev = dutil.get_data_from_file(configs)\n",
    "except:\n",
    "    raise NameError('File does not exist')\n"
   ]
  },
  {
   "cell_type": "code",
   "execution_count": 37,
   "metadata": {},
   "outputs": [
    {
     "name": "stdout",
     "output_type": "stream",
     "text": [
      "(3616, 89)\n",
      "(3616,)\n",
      "(420, 89)\n",
      "(420,)\n",
      "(array([0., 1.]), array([2660,  956]))\n",
      "(array([0., 1.]), array([268, 152]))\n"
     ]
    }
   ],
   "source": [
    "print(x.shape)\n",
    "print(y.shape)\n",
    "print(x_ev.shape)\n",
    "print(y_ev.shape)\n",
    "\n",
    "print(np.unique(y,return_counts=True))\n",
    "print(np.unique(y_ev,return_counts=True))"
   ]
  },
  {
   "cell_type": "code",
   "execution_count": null,
   "metadata": {},
   "outputs": [],
   "source": [
    "#Run classifier with cross-validation and plot ROC curves\n",
    "cv = StratifiedKFold(n_splits=10,shuffle=True)\n",
    "results_rbf = pd.DataFrame(columns=('C','Gamma','Avg PR','AUC ROC'))\n",
    "cs = np.random.uniform(0,5,50)\n",
    "gammas = 2**(np.random.choice(18,50)-15.)\n",
    "for idx,(g,c) in enumerate(zip(gammas,cs)):\n",
    "    classifier = svm.SVC(C=c,kernel='rbf', probability = True,gamma = g, random_state=5)\n",
    "    auc_pr = util.get_auc_score(classifier, cv, x, y, go_after_pr=True)\n",
    "    auc_roc =util.get_auc_score(classifier, cv, x, y, go_after_pr=False)\n",
    "    results_rbf.loc[idx] = [c,g,auc_pr,auc_roc]\n",
    "    print('Gamma = %.6f, C= %2.2f, AUC PR: %.4f, AUC ROC: %.4f' % (g,c,auc_pr,auc_roc))\n",
    "    "
   ]
  },
  {
   "cell_type": "code",
   "execution_count": null,
   "metadata": {},
   "outputs": [],
   "source": [
    "dutil.save_results(results_poly,configs,'_rbf') # save results for later use"
   ]
  },
  {
   "cell_type": "code",
   "execution_count": null,
   "metadata": {},
   "outputs": [],
   "source": [
    "best_choice = util.get_best_hyperparas_results(results_poly, col='Avg PR') #what were the best hyperparas?\n",
    "print(best_choice)\n",
    "best_c,best_g,best_d =best_choice[:3]\n"
   ]
  },
  {
   "cell_type": "code",
   "execution_count": null,
   "metadata": {},
   "outputs": [],
   "source": [
    "###using hyperpara found, evaluate and get pretty plots\n",
    "\n",
    "classifier = svm.SVC(C=best_c, kernel='rbf', probability=True,gamma = best_g,random_state=5)\n",
    "best_thr = util.get_optimal_threshold(classifier, cv, x, y, go_after_pr=True) # get threshold using cv\n",
    "#for thr in np.linspace(0,1,10):\n",
    "y_pred,y_pred_ev = util.fit_predict(classifier, best_thr, x, y, x_ev, y_ev) # using that threshold, get predictions and f1 score\n",
    "f1_tr=get_f1(y_pred,y) # calculate f1 scores for prediction on train set\n",
    "f1_ev=get_f1(y_pred_ev,y_ev)\n",
    "prec_tr,recall_tr = get_precision_recall(y_pred,y)\n",
    "prec_ev,recall_ev = get_precision_recall(y_pred_ev,y_ev)\n",
    "\n",
    "print(prec_tr, recall_tr,f1_tr)\n",
    "print(prec_ev, recall_ev,f1_ev)\n",
    "\n",
    "\n",
    "ClassificationVis.conf_mat(y_pred,y)\n",
    "ClassificationVis.conf_mat(y_pred_ev,y_ev)\n",
    "plt.show()\n",
    "ClassificationVis.plot_roc(x,y,classifier, 'SVC, RBF Kernel, C ={:.2f}, Gamma = {:.5f}'.format(best_c,best_g))\n",
    "ClassificationVis.plot_roc(x_ev,y_ev,classifier, 'SVC, RBF Kernel, C ={:.2f}, Gamma = {:.5f}'.format(best_c,best_g))"
   ]
  }
 ],
 "metadata": {
  "kernelspec": {
   "display_name": "P3 emocog",
   "language": "python",
   "name": "emocog"
  },
  "language_info": {
   "codemirror_mode": {
    "name": "ipython",
    "version": 3
   },
   "file_extension": ".py",
   "mimetype": "text/x-python",
   "name": "python",
   "nbconvert_exporter": "python",
   "pygments_lexer": "ipython3",
   "version": "3.7.3"
  }
 },
 "nbformat": 4,
 "nbformat_minor": 2
}
