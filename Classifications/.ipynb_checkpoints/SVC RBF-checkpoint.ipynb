{
 "cells": [
  {
   "cell_type": "code",
   "execution_count": 9,
   "metadata": {},
   "outputs": [
    {
     "name": "stdout",
     "output_type": "stream",
     "text": [
      "The autoreload extension is already loaded. To reload it, use:\n",
      "  %reload_ext autoreload\n"
     ]
    }
   ],
   "source": [
    "%load_ext autoreload\n",
    "%autoreload 2\n",
    "%matplotlib inline"
   ]
  },
  {
   "cell_type": "code",
   "execution_count": 10,
   "metadata": {},
   "outputs": [],
   "source": [
    "import sys\n",
    "sys.path.append('..')\n",
    "import numpy as np\n",
    "import matplotlib.pyplot as plt\n",
    "import pandas as pd\n",
    "import os\n",
    "\n",
    "from Vis import ClassificationVis, LabelVis\n",
    "from Evals import *\n",
    "from Data_Provider import *\n",
    "from Util import ClassificationUtils as util\n",
    "from Util import DataUtils as dutil\n",
    "\n",
    "import numpy as np\n",
    "from scipy import interp\n",
    "import matplotlib.pyplot as plt\n",
    "\n",
    "from sklearn import svm, datasets\n",
    "from sklearn.model_selection import StratifiedKFold\n",
    "from sklearn.ensemble import RandomForestClassifier"
   ]
  },
  {
   "cell_type": "code",
   "execution_count": 3,
   "metadata": {},
   "outputs": [],
   "source": [
    "# #important configs\n",
    "# configs = dutil.load_configs()\n",
    "# print(configs) #is this what we want?"
   ]
  },
  {
   "cell_type": "code",
   "execution_count": 4,
   "metadata": {},
   "outputs": [],
   "source": [
    "# try:\n",
    "#     x,y,x_ev,y_ev = dutil.get_data_from_file(configs)\n",
    "# except:\n",
    "#     raise NameError('File does not exist')\n"
   ]
  },
  {
   "cell_type": "code",
   "execution_count": 5,
   "metadata": {},
   "outputs": [],
   "source": [
    "# print(x.shape)\n",
    "# print(y.shape)\n",
    "# print(x_ev.shape)\n",
    "# print(y_ev.shape)\n",
    "\n",
    "# LabelVis.plot_happy_bars(y,y_ev)\n"
   ]
  },
  {
   "cell_type": "code",
   "execution_count": 11,
   "metadata": {},
   "outputs": [],
   "source": [
    "#Run classifier with cross-validation and plot ROC curves\n",
    "def calc_results_and_save(x,y,x_ev,y_ev, configs):\n",
    "    cv = StratifiedKFold(n_splits=10,shuffle=True,random_state = 1)\n",
    "    results = pd.DataFrame(columns=('C','Gamma','AVG PR'))#,'AUC ROC'))\n",
    "    cs = np.random.uniform(0,5,50)\n",
    "    gammas = 2**(np.random.choice(18,50)-15.)\n",
    "\n",
    "    for idx,(g,c) in enumerate(zip(gammas,cs)):\n",
    "        classifier = svm.SVC(cache_size=16000,C=c,kernel='rbf', probability = True,gamma = g, random_state=5)\n",
    "        auc_pr = util.get_auc_score(classifier, cv, x, y, go_after_pr=True)\n",
    "        #auc_roc =util.get_auc_score(classifier, cv, x, y, go_after_pr=False)\n",
    "        results.loc[idx] = [c,g,auc_pr]\n",
    "        print('Gamma = %.6f, C= %2.2f, Avg PR: %.4f' % (g,c,auc_pr))\n",
    "    dutil.save_results(results,configs, '_rbf')\n",
    "    return results\n",
    "\n",
    "def get_best_hyperparas(results):\n",
    "    best_choice = util.get_best_hyperparas_results(results, col='Avg PR') #what were the best hyperparas?\n",
    "    print(best_choice)\n",
    "    best_c,best_g =best_choice[:2]\n",
    "    return best_c, best_g\n",
    "    \n",
    "def vis_results(x,y, x_ev, y_ev, best_c, best_g):\n",
    "    ###using hyperpara found, evaluate and get pretty plots\n",
    "    classifier = svm.SVC(C=best_c, kernel='rbf', probability=True,gamma = best_g,random_state=5)\n",
    "    cv = StratifiedKFold(n_splits=10, shuffle=True, random_state=1)\n",
    "    best_thr = util.get_optimal_threshold(classifier, cv, x, y, go_after_pr=True) # get threshold using cv\n",
    "    #for thr in np.linspace(0,1,10):\n",
    "    print(best_thr)\n",
    "    y_pred,y_pred_ev = util.fit_predict(classifier, best_thr, x, y, x_ev, y_ev) # using that threshold, get predictions and f1 score\n",
    "    f1_tr=get_f1(y_pred,y) # calculate f1 scores for prediction on train set\n",
    "    f1_ev=get_f1(y_pred_ev,y_ev)\n",
    "    prec_tr,recall_tr = get_precision_recall(y_pred,y)\n",
    "    prec_ev,recall_ev = get_precision_recall(y_pred_ev,y_ev)\n",
    "\n",
    "    print(prec_tr, recall_tr,f1_tr)\n",
    "    print(prec_ev, recall_ev,f1_ev)\n",
    "\n",
    "\n",
    "    ClassificationVis.conf_mat(y_pred,y)\n",
    "    ClassificationVis.conf_mat(y_pred_ev,y_ev)\n",
    "    plt.show()\n",
    "    classifier.fit(x,y)\n",
    "    ClassificationVis.plot_roc(x,y,classifier, 'SVC, RBF Kernel, C ={:.2f}, Gamma = {:.5f}'.format(best_c,best_g))\n",
    "    ClassificationVis.plot_roc(x_ev,y_ev,classifier, 'SVC, RBF Kernel, C ={:.2f}, Gamma = {:.5f}'.format(best_c,best_g))\n",
    "    ClassificationVis.plot_pr_curve(x,y,classifier,'SVC, RBF Kernel, C ={:.2f}, Gamma = {:.5f}'.format(best_c,best_g))\n",
    "    ClassificationVis.plot_pr_curve(x_ev,y_ev,classifier,'SVC, RBF Kernel, C ={:.2f}, Gamma = {:.5f}'.format(best_c,best_g))\n",
    "\n"
   ]
  },
  {
   "cell_type": "code",
   "execution_count": 12,
   "metadata": {},
   "outputs": [],
   "source": [
    "%matplotlib inline"
   ]
  },
  {
   "cell_type": "code",
   "execution_count": null,
   "metadata": {},
   "outputs": [
    {
     "name": "stdout",
     "output_type": "stream",
     "text": [
      "File ws_30_str_5_tr_s_0_e_30000_ev_s_30000_e_35000_expvar_90.hdf\n",
      "Cut= 0.1\n",
      "Loading Data from File..done\n",
      "Doing cutoff\n",
      "Gamma = 0.000031, C= 0.90, Avg PR: 0.5560\n",
      "Gamma = 0.000061, C= 3.13, Avg PR: 0.5704\n",
      "Gamma = 0.250000, C= 3.47, Avg PR: 0.8803\n",
      "Gamma = 0.500000, C= 4.61, Avg PR: 0.2160\n",
      "Gamma = 0.000488, C= 4.31, Avg PR: 0.7870\n",
      "Gamma = 0.003906, C= 2.48, Avg PR: 0.9710\n"
     ]
    }
   ],
   "source": [
    "files = [f for f in os.listdir('/home/emil/OpenMindv2/data') if f.endswith('hdf')]\n",
    "provider = DataProvider()\n",
    "for file in files:\n",
    "    print('File',file)\n",
    "    for cut in [.1,.2,.4]:\n",
    "        print('Cut=',cut)\n",
    "        configs = dutil.generate_configs_from_file(file, cut)\n",
    "        x,y,x_ev,y_ev = provider.get_data(configs)\n",
    "        print(x.shape)\n",
    "        res = calc_results_and_save(x,y,x_ev,y_ev, configs)\n",
    "#         a,b = get_best_hyperparas(res)\n",
    "#         vis_results(x,y, x_ev, y_ev,a,b)\n"
   ]
  },
  {
   "cell_type": "code",
   "execution_count": null,
   "metadata": {},
   "outputs": [],
   "source": []
  }
 ],
 "metadata": {
  "kernelspec": {
   "display_name": "P3 emocog",
   "language": "python",
   "name": "emocog"
  },
  "language_info": {
   "codemirror_mode": {
    "name": "ipython",
    "version": 3
   },
   "file_extension": ".py",
   "mimetype": "text/x-python",
   "name": "python",
   "nbconvert_exporter": "python",
   "pygments_lexer": "ipython3",
   "version": "3.7.4"
  }
 },
 "nbformat": 4,
 "nbformat_minor": 2
}
