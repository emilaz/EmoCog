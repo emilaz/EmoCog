{
 "cells": [
  {
   "cell_type": "code",
   "execution_count": null,
   "metadata": {},
   "outputs": [],
   "source": [
    "%load_ext autoreload\n",
    "%autoreload 2\n",
    "%matplotlib inline"
   ]
  },
  {
   "cell_type": "code",
   "execution_count": null,
   "metadata": {},
   "outputs": [],
   "source": [
    "import sys\n",
    "sys.path.append('..')\n",
    "import numpy as np\n",
    "import matplotlib.pyplot as plt\n",
    "import pandas as pd\n",
    "import os\n",
    "\n",
    "from Vis import ClassificationVis, LabelVis\n",
    "from Evals import *\n",
    "from Data_Provider import *\n",
    "import util.classification_utils as util\n",
    "import util.data_utils as dutil\n",
    "import util.label_utils as lutil\n",
    "\n",
    "import numpy as np\n",
    "from scipy import interp\n",
    "import matplotlib.pyplot as plt\n",
    "\n",
    "from sklearn import svm, datasets\n",
    "from sklearn.model_selection import StratifiedKFold\n",
    "from sklearn.ensemble import RandomForestClassifier\n",
    "\n",
    "\n",
    "from itertools import product\n",
    "from multiprocessing import Pool"
   ]
  },
  {
   "cell_type": "code",
   "execution_count": null,
   "metadata": {},
   "outputs": [],
   "source": [
    "#Run classifier with cross-validation and plot ROC curves\n",
    "def calc_results_and_save(x,y,configs, shuff):\n",
    "    cv = StratifiedKFold(n_splits=10,shuffle=shuff,random_state = 1)\n",
    "    results = pd.DataFrame(columns=('C','Gamma','AVG PR'))#,'AUC ROC'))\n",
    "    cs = np.random.uniform(0,5,50)\n",
    "    gammas = 2**(np.random.choice(18,50)-15.)\n",
    "\n",
    "    for idx,(g,c) in enumerate(zip(gammas,cs)):\n",
    "        classifier = svm.SVC(cache_size=16000,C=c,kernel='rbf', probability = True,gamma = g, random_state=5)\n",
    "        auc_pr = util.get_auc_score(classifier, cv, x, y, go_after_pr=True)\n",
    "        #auc_roc =util.get_auc_score(classifier, cv, x, y, go_after_pr=False)\n",
    "        results.loc[idx] = [c,g,auc_pr]\n",
    "        print('Gamma = %.6f, C= %2.2f, Avg PR: %.4f' % (g,c,auc_pr))\n",
    "    if shuff:\n",
    "        dutil.save_results(results,configs,'RBF') # save results for later use\n",
    "    else:\n",
    "        dutil.save_results(results,configs,'RBF_NoShuffle') # save results for later use\n",
    "    return results\n",
    "\n",
    "\n",
    "def vis_results(x,y, x_ev, y_ev, hypers,shuff):\n",
    "    best_c, best_g = hypers\n",
    "    ###using hyperpara found, evaluate and get pretty plots\n",
    "    classifier = svm.SVC(C=best_c, kernel='rbf', probability=True,gamma = best_g,random_state=5)\n",
    "    cv = StratifiedKFold(n_splits=10, shuffle=shuff, random_state=1)\n",
    "    best_thr = util.get_optimal_threshold(classifier, cv, x, y, go_after_pr=True) # get threshold using cv\n",
    "    #for thr in np.linspace(0,1,10):\n",
    "    print(best_thr)\n",
    "    y_pred,y_pred_ev = util.fit_predict(classifier, best_thr, x, y, x_ev, y_ev) # using that threshold, get predictions and f1 score\n",
    "    f1_tr=get_f1(y_pred,y) # calculate f1 scores for prediction on train set\n",
    "    f1_ev=get_f1(y_pred_ev,y_ev)\n",
    "    prec_tr,recall_tr = get_precision_recall(y_pred,y)\n",
    "    prec_ev,recall_ev = get_precision_recall(y_pred_ev,y_ev)\n",
    "\n",
    "    print(prec_tr, recall_tr,f1_tr)\n",
    "    print(prec_ev, recall_ev,f1_ev)\n",
    "\n",
    "    \n",
    "    ClassificationVis.conf_mat(y_pred,y)\n",
    "    ClassificationVis.conf_mat(y_pred_ev,y_ev)\n",
    "    plt.show()\n",
    "    classifier.fit(x,y)\n",
    "    ClassificationVis.plot_roc(x,y,classifier, 'SVC, RBF Kernel, C ={:.2f}, Gamma = {:.5f}'.format(best_c,best_g))\n",
    "    ClassificationVis.plot_roc(x_ev,y_ev,classifier, 'SVC, RBF Kernel, C ={:.2f}, Gamma = {:.5f}'.format(best_c,best_g))\n",
    "    ClassificationVis.plot_pr_curve(x,y,classifier,'SVC, RBF Kernel, C ={:.2f}, Gamma = {:.5f}'.format(best_c,best_g))\n",
    "    ClassificationVis.plot_pr_curve(x_ev,y_ev,classifier,'SVC, RBF Kernel, C ={:.2f}, Gamma = {:.5f}'.format(best_c,best_g))\n",
    "\n",
    "def do_all(file, cut,shuff):\n",
    "    provider = DataProvider()\n",
    "    configs = dutil.generate_configs_from_file(file, cut)\n",
    "    print(configs)\n",
    "    x,y,x_ev,y_ev = provider.get_data(configs)\n",
    "    print(x.shape,y.shape,x_ev.shape,y_ev.shape)\n",
    "    res = calc_results_and_save(x, y, configs, shuff)\n",
    "    hypers = util.get_best_hyperparas(res)\n",
    "    vis_results(x,y, x_ev, y_ev,hypers)"
   ]
  },
  {
   "cell_type": "code",
   "execution_count": null,
   "metadata": {},
   "outputs": [],
   "source": [
    "%matplotlib inline"
   ]
  },
  {
   "cell_type": "code",
   "execution_count": null,
   "metadata": {
    "scrolled": false
   },
   "outputs": [],
   "source": [
    "files = [f for f in os.listdir('/home/emil/OpenMindv2/data/several_days') if f.endswith('hdf')]\n",
    "print(files)\n",
    "shuff=False\n",
    "#cuts = [.1,.2,.4]\n",
    "cuts = [.1,.2,.3]\n",
    "all_elements = [files,cuts,[shuff]]\n",
    "file_cut_combos = []\n",
    "for allel in product(*all_elements):\n",
    "    file_cut_combos+=[allel]\n",
    "print(file_cut_combos)    \n",
    "pool = mp.Pool(8)\n",
    "#yass = pool.starmap(self.load_raws_single_day,list(zip([patient]*len(days),days)))\n",
    "yass = pool.starmap(do_all,file_cut_combos)"
   ]
  },
  {
   "cell_type": "code",
   "execution_count": null,
   "metadata": {},
   "outputs": [],
   "source": []
  }
 ],
 "metadata": {
  "kernelspec": {
   "display_name": "P3 emocog",
   "language": "python",
   "name": "emocog"
  },
  "language_info": {
   "codemirror_mode": {
    "name": "ipython",
    "version": 3
   },
   "file_extension": ".py",
   "mimetype": "text/x-python",
   "name": "python",
   "nbconvert_exporter": "python",
   "pygments_lexer": "ipython3",
   "version": "3.7.4"
  }
 },
 "nbformat": 4,
 "nbformat_minor": 2
}
