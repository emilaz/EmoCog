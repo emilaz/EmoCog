{
 "cells": [
  {
   "cell_type": "code",
   "execution_count": 1,
   "metadata": {},
   "outputs": [],
   "source": [
    "import numpy as np\n",
    "#import mne\n",
    "import matplotlib.pyplot as plt\n",
    "import h5py"
   ]
  },
  {
   "cell_type": "code",
   "execution_count": null,
   "metadata": {},
   "outputs": [],
   "source": [
    "\"\"\"\n",
    "Class for preprocessing the ECoG data.\n",
    "\"\"\"\n",
    "\n",
    "class Preprocessor:\n",
    "    \n",
    "    \"\"\"\n",
    "    Init function. Takes data as given by FeatureDataHolder class, sets the bad indices and bad channels.\n",
    "    Input: Data, start and end in sample no. (not! seconds)\n",
    "    \"\"\"\n",
    "    def __init__(self,data,chan_info,start_sample,end_sample):\n",
    "        self.data=data\n",
    "        self.start=start_sample\n",
    "        self.end=end_sample\n",
    "        self.df=data['dataset'][:,start_sample:end_sample]\n",
    "        self.bad_chans=~(np.array([chan_info[c]['goodChanInds'] for c in chan_info.columns]).astype('bool'))\n",
    "        \n",
    "\n",
    "    \"\"\"\n",
    "    Function to call both functions for preprocessing, one for channels, one for indices (see above)\n",
    "    Input: Which of the two we want\n",
    "    Output: The dataframe itself, in given time window (start and end time), indices of bad chans and bad indices\n",
    "    \"\"\"\n",
    "    def preprocess(self,prefiltered_sd_kurt=True,by_artifact=True):\n",
    "        return self.df, self.bad_chans\n",
    "    "
   ]
  },
  {
   "cell_type": "code",
   "execution_count": null,
   "metadata": {},
   "outputs": [],
   "source": [
    "# df=h5py.File('/data2/users/stepeter/Preprocessing/processed_a0f66459_4.h5')\n",
    "# pr=Preprocessor(df,start_sample=11*500,end_sample=43205*500)\n"
   ]
  },
  {
   "cell_type": "code",
   "execution_count": null,
   "metadata": {},
   "outputs": [],
   "source": [
    "# dat,tt,tw=pr.preprocess()"
   ]
  },
  {
   "cell_type": "code",
   "execution_count": null,
   "metadata": {},
   "outputs": [],
   "source": [
    "# print(dat.shape)\n",
    "# print(tt.shape)\n",
    "# tw.shape\n"
   ]
  },
  {
   "cell_type": "code",
   "execution_count": null,
   "metadata": {},
   "outputs": [],
   "source": [
    "# print(np.unique(tw,return_counts=True))"
   ]
  },
  {
   "cell_type": "code",
   "execution_count": null,
   "metadata": {},
   "outputs": [],
   "source": [
    "# print(tt.shape)\n",
    "# print(tw.shape)\n",
    "# print(dat.shape)\n",
    "# aight=dat[tt!=True]\n",
    "# aight=aight[:,tw!=True]\n",
    "# print(aight.shape)\n",
    "# print(tw[-1:])"
   ]
  },
  {
   "cell_type": "code",
   "execution_count": null,
   "metadata": {},
   "outputs": [],
   "source": [
    "# prepr.bad_var.shape#print(np.unique(prepr.bad_idx,coun))\n",
    "\n",
    "# print(prepr.data[0].shape)\n",
    "# print(prepr.bad_idx.shape)\n",
    "# for p in range(0,127):\n",
    "#     if not prepr.bad_chans[p]: \n",
    "#         if not prepr.bad_var[p]:\n",
    "#             plt.plot(prepr.data[p,prepr.bad_idx[p]!=True])\n",
    "#     #mark bad points\n",
    "#     #plt.plot(np.arange(len(prepr.bad_idx[p]))[prepr.bad_idx[p]],np.zeros(len(prepr.bad_idx[p]))[prepr.bad_idx[p]]-.02, \"-\", markersize=1,)\n",
    "# plt.legend()\n",
    "\n",
    "# for p in range(0,127):\n",
    "#     if (bad_chans)\n",
    "#     plt.plot(prepr.data[p])\n",
    "\n",
    "# plt.plot(tt[0])\n",
    "# plt.plot(tt[1])\n",
    "# plt.plot(peaks, tt[1][peaks], \"x\")\n",
    "\n",
    "\n",
    "# np.random.seed(33)\n",
    "# test=np.random.uniform(0.9,1,(1,100))\n",
    "# print(test.shape)\n",
    "# test[0,10:20]=0\n",
    "# #test[1,15:25]=0\n",
    "# test[0,40:73]=0.95\n",
    "# #test[1,15:25]=0.95\n",
    "# #peaks=argrelextrema(test,np.less,order=25)\n",
    "# #plt.vlines(peaks,ymin=0, ymax=1)\n",
    "# #print(peaks)\n",
    "# grads=(np.gradient(test,axis=1)==0)\n",
    "# print(np.zeros(len(grads[p]))[grads[p]].shape)\n",
    "# for p in range(test.shape[0]):\n",
    "#     plt.plot(test[p])\n",
    "#     ym1 = np.ma.masked_where(grads[p] ==False , grads[p])\n",
    "#     plt.plot(np.arange(len(grads[p])),ym1-1.02, \"-\")\n",
    "\n",
    "# #np.argwhere(grads[1])[0]\n",
    "# #print(grads)\n",
    "# np.apply_along_axis(np.argwhere,1,grads)\n",
    "# np.argwhere(grads[2])\n",
    "# np.apply_along_axis(np.unique,1,grads)\n",
    "\n",
    "\n",
    "# ee=np.eye(3)\n",
    "# mask=np.zeros(ee.shape[0],dtype='bool')\n",
    "# mask[1]=True\n",
    "# mask[0]=True\n",
    "# #print(mask)\n",
    "\n",
    "# test=np.zeros(5)\n",
    "# np.logical_or(np.ones(5),test==1)\n",
    "\n",
    "\n",
    "# A=np.arange(5)\n",
    "# A[np.arange(2,3)]=False\n",
    "# print(A)"
   ]
  }
 ],
 "metadata": {
  "kernelspec": {
   "display_name": "Python 3",
   "language": "python",
   "name": "python3"
  },
  "language_info": {
   "codemirror_mode": {
    "name": "ipython",
    "version": 3
   },
   "file_extension": ".py",
   "mimetype": "text/x-python",
   "name": "python",
   "nbconvert_exporter": "python",
   "pygments_lexer": "ipython3",
   "version": "3.7.4"
  }
 },
 "nbformat": 4,
 "nbformat_minor": 2
}
