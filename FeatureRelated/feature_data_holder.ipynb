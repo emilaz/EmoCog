{
 "cells": [
  {
   "cell_type": "code",
   "execution_count": null,
   "metadata": {},
   "outputs": [],
   "source": [
    "%matplotlib notebook\n",
    "import sys\n",
    "sys.path.append('..')\n",
    "import h5py\n",
    "from .simple_edf_preprocessing import Preprocessor\n",
    "#from simple_edf_preprocessing import Preprocessor\n",
    "from Vis import FeatureVis\n",
    "import numpy as np\n",
    "%matplotlib notebook"
   ]
  },
  {
   "cell_type": "code",
   "execution_count": null,
   "metadata": {},
   "outputs": [],
   "source": [
    "\"\"\"\n",
    "Class for holding feature data in memory. Also invokes preprocessing of the data\n",
    "\"\"\"\n",
    "class FeatDataHolder:\n",
    "    \n",
    "    \"\"\"\n",
    "    Init class. Loads data in given time window, invokes preprocessor.\n",
    "    Input: Path to data, start and duration (in s).\n",
    "    \"\"\"\n",
    "    def __init__(self,path,start=0,duration=0):\n",
    "        #sampling frequency and last sample taken\n",
    "        df=h5py.File(path)\n",
    "        self.sfreq=int(df['f_sample'][()])\n",
    "        #TODO THIS IS ENTERED MANUALLY FOR DAY 4, PAT c46fd46!!! CHANGE TO READ FROM FILE ONCE AVAILBABLE\n",
    "        #day 4 video recodings start at 08:10:12:844 and go uninterrupted for 12 huors (check in data/sync_data)\n",
    "        #start date in seconds from 12AM is 29.413\n",
    "        ###so the actual portion of the data we want is this, in s\n",
    "        print('Warning. Start and end points for the given dataset is still manually set for patient c46fd46, day 4.')\n",
    "        #both in s\n",
    "        self.start = start\n",
    "        #self.end=72608 #THIS IS UNTIL VIDEO RECORDINGS ARE INTERRUPTED\n",
    "        self.end = self.start + duration #this is till where i explored things, around 10h of recordings amk\n",
    "        #preprocess data\n",
    "        preprocessor = Preprocessor(df,start_sample=int(self.start*self.sfreq),end_sample=int(self.end*self.sfreq))\n",
    "        self.data,self.bad_chan,self.bad_idx = preprocessor.preprocess(prefiltered_sd_kurt=True)\n",
    "        self.data = self.data[self.bad_chan!=True]\n",
    "        self.chan_labels = np.array(eval(df['chanLabels'][()]))[self.bad_chan!=True]\n",
    "        #how many samples in this dataset?\n",
    "        print('Warning. Some datapoints are manually set to be bad. This only holds true for pat cb46fd46, day 4.')\n",
    "        #excluding last electrode\n",
    "        self.set_bad_chan(self.data.shape[0]-1)\n",
    "        self.set_bad_chan(30)\n",
    "        #excluding some points found by hand lol, this better be right WARNING: THIS IS RELATIVE TO SET STARTING TIME\n",
    "        #bad_indices = [[0,60000],[1505000,1515000],[2130000,2180000],[3055000,3460000],[4140000,4150000],[2535000,2540000],[4140000,4145000],[14370000,14390000],[14440000,14447000],[14635000,14680000],[18910000+24300,18910000+24600],[18910000+1187000,18910000+1188000],[18910000+1858000,18910000+1861000],[18910000+2010000,18910000+2015000]]\n",
    "        bad_indices = [[0,60000],[1300000,1350000],[1700000,1750000],[2100000,2150000],[7200000,7250000],[8250000,8300000],[21150000,21950000],[25300000,25400000]]\n",
    "        for idces in bad_indices:\n",
    "            self.set_bad_idx(idces[0],idces[1])\n",
    "        self.data_bin,self.mask_bin=self._bin_data()\n",
    "        \n",
    "\n",
    "    \"\"\"\n",
    "    This function restructures the data into a 3D structure.\n",
    "    Each row presents a channel, each column one second and the depth is the amount of samples per seconds (sfreq). \n",
    "    This is to discard seconds where bad_idx are present and to be on par with the labels in the end\n",
    "    This function also creates a mask of the bins to later discard from the bad_idx array\n",
    "    Output: Binned data, corresponding mask\n",
    "    \"\"\"\n",
    "    def _bin_data(self):\n",
    "        #where to end?\n",
    "        data_bin=self.data.reshape(self.data.shape[0],self.end-self.start,self.sfreq)\n",
    "        mask_bin=np.all(self.bad_idx.reshape(self.end-self.start,self.sfreq),axis=1)\n",
    "        return data_bin, mask_bin\n",
    "    \n",
    "    \n",
    "    \"\"\"\n",
    "    Returns the data and mask bin\n",
    "    Output: Binned data, corresponding mask\n",
    "    \"\"\"\n",
    "    def get_bin_data_and_mask(self):\n",
    "        return self.data_bin,self.mask_bin\n",
    "    \n",
    "    \"\"\"\n",
    "    Sets bad indices manually\n",
    "    Input: Start and end of bad indices\n",
    "    \"\"\"\n",
    "    def set_bad_idx(self, idx_start,idx_end):\n",
    "        self.bad_idx[idx_start:idx_end] = True\n",
    "        \n",
    "    \"\"\"\n",
    "    Sets bad chan manually\n",
    "    Input: Chan to be discarded\n",
    "    \"\"\"\n",
    "    def set_bad_chan(self,chan):\n",
    "        self.data = self.data[np.arange(self.data.shape[0])!=chan]\n",
    "\n"
   ]
  },
  {
   "cell_type": "code",
   "execution_count": null,
   "metadata": {},
   "outputs": [],
   "source": [
    "# realtime_start = 29413 #this is 8h, 10min and 13s into day 4 PLUS 10 hours\n",
    "# durr = 37820+7200\n",
    "# lel = FeatDataHolder('/data2/users/stepeter/Preprocessing/processed_cb46fd46_4.h5',start=realtime_start, duration = durr)\n",
    "# bad_indices = [[0,60000],[1505000,1515000],[2130000,2180000],[3055000,3460000],[4140000,4150000],[2535000,2540000],[4140000,4145000],[14370000,14390000],[14440000,14447000],[14635000,14680000],[18910000+24300,18910000+24600],[18910000+1187000,18910000+1188000],[18910000+1858000,18910000+1861000],[18910000+2010000,18910000+2015000]]\n",
    "\n",
    "\n",
    "# lel.data.shape\n"
   ]
  },
  {
   "cell_type": "code",
   "execution_count": null,
   "metadata": {},
   "outputs": [],
   "source": [
    "#FeatureVis.plot_raw_data(lel.data,bad_coords=[[0,60000],[1505000,1515000],[2130000,2180000],[3055000,3460000],[4140000,4150000]])"
   ]
  },
  {
   "cell_type": "code",
   "execution_count": null,
   "metadata": {},
   "outputs": [],
   "source": []
  }
 ],
 "metadata": {
  "kernelspec": {
   "display_name": "P3 emocog",
   "language": "python",
   "name": "emocog"
  },
  "language_info": {
   "codemirror_mode": {
    "name": "ipython",
    "version": 3
   },
   "file_extension": ".py",
   "mimetype": "text/x-python",
   "name": "python",
   "nbconvert_exporter": "python",
   "pygments_lexer": "ipython3",
   "version": "3.7.3"
  }
 },
 "nbformat": 4,
 "nbformat_minor": 2
}
