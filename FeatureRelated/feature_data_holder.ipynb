{
 "cells": [
  {
   "cell_type": "code",
   "execution_count": null,
   "metadata": {},
   "outputs": [],
   "source": [
    "%matplotlib notebook\n",
    "import sys\n",
    "sys.path.append('..')\n",
    "import h5py\n",
    "from .simple_edf_preprocessing import Preprocessor\n",
    "from Vis import FeatureVis\n",
    "import numpy as np\n",
    "import pandas as pd\n",
    "%matplotlib notebook\n",
    "from functools import reduce"
   ]
  },
  {
   "cell_type": "code",
   "execution_count": null,
   "metadata": {},
   "outputs": [],
   "source": [
    "\"\"\"\n",
    "Class for holding feature data in memory. Also invokes preprocessing of the data\n",
    "\"\"\"\n",
    "class FeatDataHolder:\n",
    "    \n",
    "    \"\"\"\n",
    "    Init class. Loads data in given time window, invokes preprocessor.\n",
    "    Input: Path to data, start and end (in s).\n",
    "    \"\"\"\n",
    "    def __init__(self,path,start=0,end=None):\n",
    "        #sampling frequency and last sample taken\n",
    "        df=h5py.File(path)\n",
    "        chan_info = pd.read_hdf(path,key='chan_info')\n",
    "        self.sfreq=int(df['f_sample'][()])\n",
    "        self.start = start\n",
    "        self.end = end \n",
    "        #preprocess data\n",
    "        preprocessor = Preprocessor(df, chan_info,start_sample=int(self.start*self.sfreq),end_sample=int(self.end*self.sfreq))\n",
    "        self.data,self.bad_chan= preprocessor.preprocess(prefiltered_sd_kurt=True)\n",
    "        self.data = self.data[self.bad_chan!=True]\n",
    "        self.chan_labels = np.array([c for c in chan_info.columns])[self.bad_chan!=True]\n",
    "        self.data_bin=self._bin_data()\n",
    "        \n",
    "\n",
    "    \"\"\"\n",
    "    This function restructures the data into a 3D structure.\n",
    "    Each row presents a channel, each column one second and the depth is the amount of samples per seconds (sfreq). \n",
    "    This is to discard seconds where bad_idx are present and to be on par with the labels in the end\n",
    "    This function also creates a mask of the bins to later discard from the bad_idx array\n",
    "    Output: Binned data, corresponding mask\n",
    "    \"\"\"\n",
    "    def _bin_data(self):\n",
    "        #where to end?\n",
    "        data_bin=self.data.reshape(self.data.shape[0],self.end-self.start,self.sfreq)\n",
    "        return data_bin\n",
    "    \n",
    "    \n",
    "    \"\"\"\n",
    "    Returns the data and mask bin\n",
    "    Output: Binned data, corresponding mask\n",
    "    \"\"\"\n",
    "    def get_bin_data(self):\n",
    "        return self.data_bin\n",
    "    \n",
    "    \"\"\"\n",
    "    Sets bad indices manually\n",
    "    Input: Start and end of bad indices\n",
    "    \"\"\"\n",
    "    def set_bad_idx(self, idx_start,idx_end):\n",
    "        self.bad_idx[idx_start:idx_end] = True\n",
    "        \n",
    "    \"\"\"\n",
    "    Sets bad chan manually\n",
    "    Input: Chan to be discarded\n",
    "    \"\"\"\n",
    "    def set_bad_chan(self,chan):\n",
    "        self.data = self.data[np.arange(self.data.shape[0])!=chan]\n",
    "\n"
   ]
  }
 ],
 "metadata": {
  "kernelspec": {
   "display_name": "P3 emocog",
   "language": "python",
   "name": "emocog"
  },
  "language_info": {
   "codemirror_mode": {
    "name": "ipython",
    "version": 3
   },
   "file_extension": ".py",
   "mimetype": "text/x-python",
   "name": "python",
   "nbconvert_exporter": "python",
   "pygments_lexer": "ipython3",
   "version": "3.7.4"
  }
 },
 "nbformat": 4,
 "nbformat_minor": 2
}
